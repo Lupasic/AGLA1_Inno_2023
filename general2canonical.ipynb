{
  "nbformat": 4,
  "nbformat_minor": 0,
  "metadata": {
    "colab": {
      "provenance": [],
      "include_colab_link": true
    },
    "kernelspec": {
      "name": "python3",
      "display_name": "Python 3"
    },
    "language_info": {
      "name": "python"
    }
  },
  "cells": [
    {
      "cell_type": "markdown",
      "metadata": {
        "id": "view-in-github",
        "colab_type": "text"
      },
      "source": [
        "<a href=\"https://colab.research.google.com/github/Lupasic/AGLA1_Inno_2023/blob/pub_2023/general2canonical.ipynb\" target=\"_parent\"><img src=\"https://colab.research.google.com/assets/colab-badge.svg\" alt=\"Open In Colab\"/></a>"
      ]
    },
    {
      "cell_type": "code",
      "execution_count": null,
      "metadata": {
        "id": "nPTlMJtGl4fl"
      },
      "outputs": [],
      "source": [
        "import sympy\n",
        "from sympy.abc import x, y, a, b, c, d, e, f"
      ]
    },
    {
      "cell_type": "code",
      "source": [
        "# Oleg's method\n",
        "def get_center(a:int, b:int, c:int, d:int, e:int, f:int):\n",
        "  expr1 = a*x**2+b*x*y+c*y**2+d*x+e*y+f\n",
        "  derivative_x = sympy.diff(expr1, x)\n",
        "  derivative_y = sympy.diff(expr1, y)\n",
        "  return sympy.solve([derivative_x, derivative_y]).values()\n",
        "def general2canonical_1(a:int, b:int, c:int, d:int, e:int, f:int, x_old:int, y_old:int) -> None:\n",
        "  \"\"\"\n",
        "    general2canonical_1 transforms general equation of a curve into a canonical one\n",
        "\n",
        "    :params a-f: describe coefficients of general form of a curve\n",
        "    :params x,y: point that supposes to be described in terms of the old coordinate system\n",
        "\n",
        "    \"\"\"\n",
        "  # determinant\n",
        "  matrix_S = sympy.Matrix([[a, b/2, d/2],\n",
        "                           [b/2, c, e/2],\n",
        "                           [d/2, e/2, f]])\n",
        "  det_s = matrix_S.det()\n",
        "  # eigenvalues\n",
        "  eigen_roots = list(sympy.roots(x**2-(a+c)*x+(a*c-(b/2)**2),x).keys())\n",
        "  f1 = sympy.Rational(f'{-det_s}/{eigen_roots[0]**2*eigen_roots[1]}')\n",
        "  f2 = sympy.Rational(f'{-det_s}/{eigen_roots[1]**2*eigen_roots[0]}')\n",
        "  expression = f\"(x**2)/{f1} + (y**2)/{f2}\"\n",
        "  print(f1,f2)\n",
        "  expr = sympy.sympify(expression)\n",
        "  print(f\"df/dx: {sympy.diff(expr-1,x)}\")\n",
        "  print(f\"df/dy: {sympy.diff(expr-1,y)}\")\n",
        "  print(f\"The canonical form of the curve: {expr}= 1\")\n",
        "  # change of the basis\n",
        "  center_x, center_y = get_center(a, b, c, d, e, f)\n",
        "  print(f\"The center of the given curve is: {center_x}, {center_y}\")\n",
        "  print(f\"The eccentricity of the given curve is: {sympy.N(sympy.sqrt(1+(max(abs(f1),abs(f2))/min(abs(f2),abs(f1)))))}\")\n",
        "  rot_angle = sympy.acot((a-c)/b)/2\n",
        "  rot_matrix = sympy.Matrix([[sympy.cos(rot_angle), sympy.sin(rot_angle), -center_x*sympy.cos(rot_angle)-center_y*sympy.sin(rot_angle)],\n",
        "                             [-sympy.sin(rot_angle), sympy.cos(rot_angle), center_x*sympy.sin(rot_angle)-center_y*sympy.cos(rot_angle)],\n",
        "                             [0, 0, 1]])\n",
        "  x_new, y_new, _ = (rot_matrix.inv() * sympy.Matrix([[x_old],\n",
        "                                                [y_old],\n",
        "                                                [1]]))\n",
        "  print(f\"Coordinates of the point in the old coordinate system are: ({format(x_new,'.2f')},{format(y_new,'.2f')})\")"
      ],
      "metadata": {
        "id": "FXJDn-y_l-l9"
      },
      "execution_count": null,
      "outputs": []
    },
    {
      "cell_type": "code",
      "source": [
        "general2canonical_1(0,6,8,-12,-26,11,0,0)\n",
        "# TODO: Add the opportunity to get a tangent line to a curve"
      ],
      "metadata": {
        "colab": {
          "base_uri": "https://localhost:8080/"
        },
        "id": "bCyd1xLznggP",
        "outputId": "f8a5d7b6-e321-48f5-e405-5c9446a2d598"
      },
      "execution_count": null,
      "outputs": [
        {
          "output_type": "stream",
          "name": "stdout",
          "text": [
            "-9 1\n",
            "df/dx: -2*x/9\n",
            "df/dy: 2*y\n",
            "The canonical form of the curve: -x**2/9 + y**2= 1\n",
            "The center of the given curve is: -1, 2\n",
            "The eccentricity of the given curve is: 3.16227766016838\n",
            "Coordinates of the point in the old coordinate system are: (-1.00,2.00)\n"
          ]
        }
      ]
    },
    {
      "cell_type": "code",
      "source": [
        "import sympy as sp\n",
        "from sympy import cos, sin\n",
        "ang = sp.Symbol('alpha')\n",
        "xc = sp.Symbol('x_c')\n",
        "yc = sp.Symbol('y_c')\n",
        "\n",
        "H_mat = sp.Matrix([[cos(-ang), -sin(-ang), 0],[sin(-ang),cos(-ang),0],[0,0,1]])*sp.Matrix([[1,0,-xc],[0,1,-yc],[0,0,1]])\n",
        "matrix1 = sp.Matrix([[cos(-ang), -sin(-ang), 0],[sin(-ang),cos(-ang),0],[0,0,1]])\n",
        "matrix2 = sp.Matrix([[1,0,-xc],[0,1,-yc],[0,0,1]])\n",
        "matrix3 = sympy.simplify(matrix1.inv()*matrix2.inv())\n",
        "matrix3"
      ],
      "metadata": {
        "colab": {
          "base_uri": "https://localhost:8080/",
          "height": 78
        },
        "id": "ToBxOvlQkd-p",
        "outputId": "ec6657e0-39e1-42c3-e278-9db09de900b0"
      },
      "execution_count": null,
      "outputs": [
        {
          "output_type": "execute_result",
          "data": {
            "text/plain": [
              "Matrix([\n",
              "[cos(alpha), -sin(alpha), x_c*cos(alpha) - y_c*sin(alpha)],\n",
              "[sin(alpha),  cos(alpha), x_c*sin(alpha) + y_c*cos(alpha)],\n",
              "[         0,           0,                               1]])"
            ],
            "text/latex": "$\\displaystyle \\left[\\begin{matrix}\\cos{\\left(\\alpha \\right)} & - \\sin{\\left(\\alpha \\right)} & x_{c} \\cos{\\left(\\alpha \\right)} - y_{c} \\sin{\\left(\\alpha \\right)}\\\\\\sin{\\left(\\alpha \\right)} & \\cos{\\left(\\alpha \\right)} & x_{c} \\sin{\\left(\\alpha \\right)} + y_{c} \\cos{\\left(\\alpha \\right)}\\\\0 & 0 & 1\\end{matrix}\\right]$"
          },
          "metadata": {},
          "execution_count": 22
        }
      ]
    }
  ]
}