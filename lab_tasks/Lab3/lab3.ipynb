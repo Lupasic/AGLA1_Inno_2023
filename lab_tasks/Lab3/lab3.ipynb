{
  "nbformat": 4,
  "nbformat_minor": 0,
  "metadata": {
    "colab": {
      "provenance": []
    },
    "kernelspec": {
      "name": "python3",
      "display_name": "Python 3"
    },
    "language_info": {
      "name": "python"
    }
  },
  "cells": [
    {
      "cell_type": "markdown",
      "source": [
        "# Essentials of Analytical Geometry and Linear Algebra I, Class \\#3\n",
        "Innopolis University, September 2023\n"
      ],
      "metadata": {
        "id": "P_a10UVeQC_m"
      }
    },
    {
      "cell_type": "markdown",
      "source": [
        "## Operation with matrices"
      ],
      "metadata": {
        "id": "L5kkYF0PQNFz"
      }
    },
    {
      "cell_type": "markdown",
      "source": [
        "1. Let $A=\\begin{bmatrix} 3 & 1 \\\\ 5 & -2 \\\\ \\end{bmatrix}$, $B=\\begin{bmatrix} -2 & 1 \\\\ 3 & 4 \\\\ \\end{bmatrix}$, $I=\\begin{bmatrix} 1 & 0 \\\\ 0 & 1 \\\\ \\end{bmatrix}$: \\\\\n",
        "a) Find $A+B$; \\\\\n",
        "b) Find $2A-3B+I$; \\\\\n",
        "c) Find $AB$ and $BA$ (make sure that, in general, $AB \\neq BA$ for matrices); \\\\\n",
        "d) Find $AI$ and $IA$."
      ],
      "metadata": {
        "id": "-EY3YTqqQPZ4"
      }
    },
    {
      "cell_type": "code",
      "execution_count": null,
      "metadata": {
        "colab": {
          "base_uri": "https://localhost:8080/",
          "height": 76
        },
        "id": "IlmCVBb4P-NF",
        "outputId": "2278dd23-d01a-4d1f-a6c9-d2f5585dc0ba"
      },
      "outputs": [
        {
          "output_type": "stream",
          "name": "stdout",
          "text": [
            "a) \n"
          ]
        },
        {
          "output_type": "execute_result",
          "data": {
            "text/plain": [
              "Matrix([\n",
              "[1, 2],\n",
              "[8, 2]])"
            ],
            "text/latex": "$\\displaystyle \\left[\\begin{matrix}1 & 2\\\\8 & 2\\end{matrix}\\right]$"
          },
          "metadata": {},
          "execution_count": 111
        }
      ],
      "source": [
        "import sympy as sp\n",
        "A = sp.Matrix([[3, 1],[5, -2]])\n",
        "B = sp.Matrix([[-2,1],[3,4]])\n",
        "\n",
        "# a)\n",
        "res1 = A + B\n",
        "print(\"a) \")\n",
        "res1"
      ]
    },
    {
      "cell_type": "code",
      "source": [
        "print(\"b)\")\n",
        "res2 = 2*A - 3*B + sp.eye(2)\n",
        "res2\n"
      ],
      "metadata": {
        "colab": {
          "base_uri": "https://localhost:8080/",
          "height": 76
        },
        "id": "Dc_NrydoUSYB",
        "outputId": "bc180e53-06f6-421f-8e38-37ec2b536b24"
      },
      "execution_count": null,
      "outputs": [
        {
          "output_type": "stream",
          "name": "stdout",
          "text": [
            "b)\n"
          ]
        },
        {
          "output_type": "execute_result",
          "data": {
            "text/plain": [
              "Matrix([\n",
              "[13,  -1],\n",
              "[ 1, -15]])"
            ],
            "text/latex": "$\\displaystyle \\left[\\begin{matrix}13 & -1\\\\1 & -15\\end{matrix}\\right]$"
          },
          "metadata": {},
          "execution_count": 112
        }
      ]
    },
    {
      "cell_type": "code",
      "source": [
        "# c)\n",
        "res3a = A*B\n",
        "print(\"c_a)\")\n",
        "res3a"
      ],
      "metadata": {
        "colab": {
          "base_uri": "https://localhost:8080/",
          "height": 76
        },
        "id": "eyAiKJJFUqqK",
        "outputId": "0702817f-ceb2-45eb-f13f-e692feabfb88"
      },
      "execution_count": null,
      "outputs": [
        {
          "output_type": "stream",
          "name": "stdout",
          "text": [
            "c_a)\n"
          ]
        },
        {
          "output_type": "execute_result",
          "data": {
            "text/plain": [
              "Matrix([\n",
              "[ -3,  7],\n",
              "[-16, -3]])"
            ],
            "text/latex": "$\\displaystyle \\left[\\begin{matrix}-3 & 7\\\\-16 & -3\\end{matrix}\\right]$"
          },
          "metadata": {},
          "execution_count": 113
        }
      ]
    },
    {
      "cell_type": "code",
      "source": [
        "res3b = B*A\n",
        "print(\"c_b)\")\n",
        "res3b"
      ],
      "metadata": {
        "colab": {
          "base_uri": "https://localhost:8080/",
          "height": 76
        },
        "id": "zCTakLDNU7f7",
        "outputId": "05b1232d-f694-4fbd-c8e9-25c16b652a39"
      },
      "execution_count": null,
      "outputs": [
        {
          "output_type": "stream",
          "name": "stdout",
          "text": [
            "c_b)\n"
          ]
        },
        {
          "output_type": "execute_result",
          "data": {
            "text/plain": [
              "Matrix([\n",
              "[-1, -4],\n",
              "[29, -5]])"
            ],
            "text/latex": "$\\displaystyle \\left[\\begin{matrix}-1 & -4\\\\29 & -5\\end{matrix}\\right]$"
          },
          "metadata": {},
          "execution_count": 114
        }
      ]
    },
    {
      "cell_type": "code",
      "source": [
        "print(\"d_a)\")\n",
        "res4a = A*sp.eye(2)\n",
        "res4a"
      ],
      "metadata": {
        "colab": {
          "base_uri": "https://localhost:8080/",
          "height": 76
        },
        "id": "MeaDQGxBUrSw",
        "outputId": "1eef1eaa-116f-4546-877f-abe66d072116"
      },
      "execution_count": null,
      "outputs": [
        {
          "output_type": "stream",
          "name": "stdout",
          "text": [
            "d_a)\n"
          ]
        },
        {
          "output_type": "execute_result",
          "data": {
            "text/plain": [
              "Matrix([\n",
              "[3,  1],\n",
              "[5, -2]])"
            ],
            "text/latex": "$\\displaystyle \\left[\\begin{matrix}3 & 1\\\\5 & -2\\end{matrix}\\right]$"
          },
          "metadata": {},
          "execution_count": 115
        }
      ]
    },
    {
      "cell_type": "code",
      "source": [
        "print(\"d_b)\")\n",
        "res4b = sp.eye(2) * A\n",
        "res4b"
      ],
      "metadata": {
        "colab": {
          "base_uri": "https://localhost:8080/",
          "height": 76
        },
        "id": "SivBvHM1VJQA",
        "outputId": "474cbc3a-cd78-4651-a827-6f61592c2fdd"
      },
      "execution_count": null,
      "outputs": [
        {
          "output_type": "stream",
          "name": "stdout",
          "text": [
            "d_b)\n"
          ]
        },
        {
          "output_type": "execute_result",
          "data": {
            "text/plain": [
              "Matrix([\n",
              "[3,  1],\n",
              "[5, -2]])"
            ],
            "text/latex": "$\\displaystyle \\left[\\begin{matrix}3 & 1\\\\5 & -2\\end{matrix}\\right]$"
          },
          "metadata": {},
          "execution_count": 116
        }
      ]
    },
    {
      "cell_type": "markdown",
      "source": [
        "2. Let $A=\\begin{bmatrix} 2 & -1 & -1\\end{bmatrix}$ and $B=\\begin{bmatrix} -2 \\\\ -1 \\\\ 3 \\end{bmatrix}$: \\\\\n",
        "    a) Find $AB$ и $BA$, if exists; \\\\\n",
        "    b) Find $A^TB$ и $BA^T$, if exists."
      ],
      "metadata": {
        "id": "I1X0-vIcVOrL"
      }
    },
    {
      "cell_type": "code",
      "source": [
        "import sympy as sp\n",
        "A = sp.Matrix([[2],[-1],[-1]]).T\n",
        "B = sp.Matrix([[-2], [-1], [3]])\n",
        "\n",
        "print(\"a_a)\")\n",
        "t1a = A*B\n",
        "t1a"
      ],
      "metadata": {
        "colab": {
          "base_uri": "https://localhost:8080/",
          "height": 56
        },
        "id": "stSdFi_KVfPS",
        "outputId": "83539d11-cdee-406c-b6bc-06916a2fdc4a"
      },
      "execution_count": null,
      "outputs": [
        {
          "output_type": "stream",
          "name": "stdout",
          "text": [
            "a_a)\n"
          ]
        },
        {
          "output_type": "execute_result",
          "data": {
            "text/plain": [
              "Matrix([[-6]])"
            ],
            "text/latex": "$\\displaystyle \\left[\\begin{matrix}-6\\end{matrix}\\right]$"
          },
          "metadata": {},
          "execution_count": 1
        }
      ]
    },
    {
      "cell_type": "code",
      "source": [
        "t1b = B*A\n",
        "print(\"a_b)\")\n",
        "t1b\n",
        "\n",
        "\n"
      ],
      "metadata": {
        "colab": {
          "base_uri": "https://localhost:8080/",
          "height": 95
        },
        "id": "vDMlUi0XVswO",
        "outputId": "6532f4f5-378d-4183-f65f-3c7d2a5a4526"
      },
      "execution_count": null,
      "outputs": [
        {
          "output_type": "stream",
          "name": "stdout",
          "text": [
            "a_b)\n"
          ]
        },
        {
          "output_type": "execute_result",
          "data": {
            "text/plain": [
              "Matrix([\n",
              "[-4,  2,  2],\n",
              "[-2,  1,  1],\n",
              "[ 6, -3, -3]])"
            ],
            "text/latex": "$\\displaystyle \\left[\\begin{matrix}-4 & 2 & 2\\\\-2 & 1 & 1\\\\6 & -3 & -3\\end{matrix}\\right]$"
          },
          "metadata": {},
          "execution_count": 2
        }
      ]
    },
    {
      "cell_type": "markdown",
      "source": [
        "t2a = A.T*B (cannot be solved)\n",
        "\n",
        "t2b = B*A.T (cannot be solved)"
      ],
      "metadata": {
        "id": "_gvej9jfV8wY"
      }
    },
    {
      "cell_type": "markdown",
      "source": [
        "3. If solution exists, what the dimension of the result matrix. There are several matrices:  $\\underset{3\\times3}{A}$, $\\underset{2\\times3}{B}$, $\\underset{3\\times2}{C}$, $\\underset{3\\times5}{D}$, $\\underset{1\\times2}{E}$, $\\underset{3\\times1}{K}$.\n",
        "\n",
        "a) $ABC$; \\\\\n",
        "b) $AB^TC^T$; \\\\\n",
        "c) $EBAE$; \\\\\n",
        "d) $K^T \\times K^T C E^T$. \\\\"
      ],
      "metadata": {
        "id": "2tdXt3hrWB5c"
      }
    },
    {
      "cell_type": "code",
      "source": [
        "import sympy as sp\n",
        "A = sp.MatrixSymbol('A',3,3)\n",
        "B = sp.MatrixSymbol('B',2,3)\n",
        "C = sp.MatrixSymbol('C',3,2)\n",
        "D = sp.MatrixSymbol('D',3,5)\n",
        "E = sp.MatrixSymbol('E',1,2)\n",
        "K = sp.MatrixSymbol('K',3,1)\n",
        "\n",
        "print(\"a)\")\n",
        "res1 = A*B*C\n",
        "res1"
      ],
      "metadata": {
        "colab": {
          "base_uri": "https://localhost:8080/",
          "height": 372
        },
        "id": "hsAKmwNNWXVM",
        "outputId": "869da744-7c2d-43b7-f987-5016fd68abe8"
      },
      "execution_count": null,
      "outputs": [
        {
          "output_type": "stream",
          "name": "stdout",
          "text": [
            "a)\n"
          ]
        },
        {
          "output_type": "error",
          "ename": "ShapeError",
          "evalue": "ignored",
          "traceback": [
            "\u001b[0;31m---------------------------------------------------------------------------\u001b[0m",
            "\u001b[0;31mShapeError\u001b[0m                                Traceback (most recent call last)",
            "\u001b[0;32m<ipython-input-119-5e9b210d33fb>\u001b[0m in \u001b[0;36m<cell line: 10>\u001b[0;34m()\u001b[0m\n\u001b[1;32m      8\u001b[0m \u001b[0;34m\u001b[0m\u001b[0m\n\u001b[1;32m      9\u001b[0m \u001b[0mprint\u001b[0m\u001b[0;34m(\u001b[0m\u001b[0;34m\"a)\"\u001b[0m\u001b[0;34m)\u001b[0m\u001b[0;34m\u001b[0m\u001b[0;34m\u001b[0m\u001b[0m\n\u001b[0;32m---> 10\u001b[0;31m \u001b[0mres1\u001b[0m \u001b[0;34m=\u001b[0m \u001b[0mA\u001b[0m\u001b[0;34m*\u001b[0m\u001b[0mB\u001b[0m\u001b[0;34m*\u001b[0m\u001b[0mC\u001b[0m\u001b[0;34m\u001b[0m\u001b[0;34m\u001b[0m\u001b[0m\n\u001b[0m\u001b[1;32m     11\u001b[0m \u001b[0mres1\u001b[0m\u001b[0;34m\u001b[0m\u001b[0;34m\u001b[0m\u001b[0m\n",
            "\u001b[0;32m/usr/local/lib/python3.10/dist-packages/sympy/matrices/expressions/matexpr.py\u001b[0m in \u001b[0;36m__sympifyit_wrapper\u001b[0;34m(a, b)\u001b[0m\n\u001b[1;32m     25\u001b[0m             \u001b[0;32mtry\u001b[0m\u001b[0;34m:\u001b[0m\u001b[0;34m\u001b[0m\u001b[0;34m\u001b[0m\u001b[0m\n\u001b[1;32m     26\u001b[0m                 \u001b[0mb\u001b[0m \u001b[0;34m=\u001b[0m \u001b[0m_sympify\u001b[0m\u001b[0;34m(\u001b[0m\u001b[0mb\u001b[0m\u001b[0;34m)\u001b[0m\u001b[0;34m\u001b[0m\u001b[0;34m\u001b[0m\u001b[0m\n\u001b[0;32m---> 27\u001b[0;31m                 \u001b[0;32mreturn\u001b[0m \u001b[0mfunc\u001b[0m\u001b[0;34m(\u001b[0m\u001b[0ma\u001b[0m\u001b[0;34m,\u001b[0m \u001b[0mb\u001b[0m\u001b[0;34m)\u001b[0m\u001b[0;34m\u001b[0m\u001b[0;34m\u001b[0m\u001b[0m\n\u001b[0m\u001b[1;32m     28\u001b[0m             \u001b[0;32mexcept\u001b[0m \u001b[0mSympifyError\u001b[0m\u001b[0;34m:\u001b[0m\u001b[0;34m\u001b[0m\u001b[0;34m\u001b[0m\u001b[0m\n\u001b[1;32m     29\u001b[0m                 \u001b[0;32mreturn\u001b[0m \u001b[0mretval\u001b[0m\u001b[0;34m\u001b[0m\u001b[0;34m\u001b[0m\u001b[0m\n",
            "\u001b[0;32m/usr/local/lib/python3.10/dist-packages/sympy/core/decorators.py\u001b[0m in \u001b[0;36mbinary_op_wrapper\u001b[0;34m(self, other)\u001b[0m\n\u001b[1;32m    104\u001b[0m                     \u001b[0;32mif\u001b[0m \u001b[0mf\u001b[0m \u001b[0;32mis\u001b[0m \u001b[0;32mnot\u001b[0m \u001b[0;32mNone\u001b[0m\u001b[0;34m:\u001b[0m\u001b[0;34m\u001b[0m\u001b[0;34m\u001b[0m\u001b[0m\n\u001b[1;32m    105\u001b[0m                         \u001b[0;32mreturn\u001b[0m \u001b[0mf\u001b[0m\u001b[0;34m(\u001b[0m\u001b[0mself\u001b[0m\u001b[0;34m)\u001b[0m\u001b[0;34m\u001b[0m\u001b[0;34m\u001b[0m\u001b[0m\n\u001b[0;32m--> 106\u001b[0;31m             \u001b[0;32mreturn\u001b[0m \u001b[0mfunc\u001b[0m\u001b[0;34m(\u001b[0m\u001b[0mself\u001b[0m\u001b[0;34m,\u001b[0m \u001b[0mother\u001b[0m\u001b[0;34m)\u001b[0m\u001b[0;34m\u001b[0m\u001b[0;34m\u001b[0m\u001b[0m\n\u001b[0m\u001b[1;32m    107\u001b[0m         \u001b[0;32mreturn\u001b[0m \u001b[0mbinary_op_wrapper\u001b[0m\u001b[0;34m\u001b[0m\u001b[0;34m\u001b[0m\u001b[0m\n\u001b[1;32m    108\u001b[0m     \u001b[0;32mreturn\u001b[0m \u001b[0mpriority_decorator\u001b[0m\u001b[0;34m\u001b[0m\u001b[0;34m\u001b[0m\u001b[0m\n",
            "\u001b[0;32m/usr/local/lib/python3.10/dist-packages/sympy/matrices/expressions/matexpr.py\u001b[0m in \u001b[0;36m__mul__\u001b[0;34m(self, other)\u001b[0m\n\u001b[1;32m    125\u001b[0m     \u001b[0;34m@\u001b[0m\u001b[0mcall_highest_priority\u001b[0m\u001b[0;34m(\u001b[0m\u001b[0;34m'__rmul__'\u001b[0m\u001b[0;34m)\u001b[0m\u001b[0;34m\u001b[0m\u001b[0;34m\u001b[0m\u001b[0m\n\u001b[1;32m    126\u001b[0m     \u001b[0;32mdef\u001b[0m \u001b[0m__mul__\u001b[0m\u001b[0;34m(\u001b[0m\u001b[0mself\u001b[0m\u001b[0;34m,\u001b[0m \u001b[0mother\u001b[0m\u001b[0;34m)\u001b[0m\u001b[0;34m:\u001b[0m\u001b[0;34m\u001b[0m\u001b[0;34m\u001b[0m\u001b[0m\n\u001b[0;32m--> 127\u001b[0;31m         \u001b[0;32mreturn\u001b[0m \u001b[0mMatMul\u001b[0m\u001b[0;34m(\u001b[0m\u001b[0mself\u001b[0m\u001b[0;34m,\u001b[0m \u001b[0mother\u001b[0m\u001b[0;34m)\u001b[0m\u001b[0;34m.\u001b[0m\u001b[0mdoit\u001b[0m\u001b[0;34m(\u001b[0m\u001b[0;34m)\u001b[0m\u001b[0;34m\u001b[0m\u001b[0;34m\u001b[0m\u001b[0m\n\u001b[0m\u001b[1;32m    128\u001b[0m \u001b[0;34m\u001b[0m\u001b[0m\n\u001b[1;32m    129\u001b[0m     \u001b[0;34m@\u001b[0m\u001b[0m_sympifyit\u001b[0m\u001b[0;34m(\u001b[0m\u001b[0;34m'other'\u001b[0m\u001b[0;34m,\u001b[0m \u001b[0mNotImplemented\u001b[0m\u001b[0;34m)\u001b[0m\u001b[0;34m\u001b[0m\u001b[0;34m\u001b[0m\u001b[0m\n",
            "\u001b[0;32m/usr/local/lib/python3.10/dist-packages/sympy/matrices/expressions/matmul.py\u001b[0m in \u001b[0;36m__new__\u001b[0;34m(cls, evaluate, check, _sympify, *args)\u001b[0m\n\u001b[1;32m     59\u001b[0m \u001b[0;34m\u001b[0m\u001b[0m\n\u001b[1;32m     60\u001b[0m         \u001b[0;32mif\u001b[0m \u001b[0mcheck\u001b[0m \u001b[0;32mis\u001b[0m \u001b[0;32mnot\u001b[0m \u001b[0;32mFalse\u001b[0m\u001b[0;34m:\u001b[0m\u001b[0;34m\u001b[0m\u001b[0;34m\u001b[0m\u001b[0m\n\u001b[0;32m---> 61\u001b[0;31m             \u001b[0mvalidate\u001b[0m\u001b[0;34m(\u001b[0m\u001b[0;34m*\u001b[0m\u001b[0mmatrices\u001b[0m\u001b[0;34m)\u001b[0m\u001b[0;34m\u001b[0m\u001b[0;34m\u001b[0m\u001b[0m\n\u001b[0m\u001b[1;32m     62\u001b[0m \u001b[0;34m\u001b[0m\u001b[0m\n\u001b[1;32m     63\u001b[0m         \u001b[0;32mif\u001b[0m \u001b[0;32mnot\u001b[0m \u001b[0mmatrices\u001b[0m\u001b[0;34m:\u001b[0m\u001b[0;34m\u001b[0m\u001b[0;34m\u001b[0m\u001b[0m\n",
            "\u001b[0;32m/usr/local/lib/python3.10/dist-packages/sympy/matrices/expressions/_shape.py\u001b[0m in \u001b[0;36mvalidate_matmul_integer\u001b[0;34m(*args)\u001b[0m\n\u001b[1;32m    100\u001b[0m         \u001b[0mi\u001b[0m\u001b[0;34m,\u001b[0m \u001b[0mj\u001b[0m \u001b[0;34m=\u001b[0m \u001b[0mA\u001b[0m\u001b[0;34m.\u001b[0m\u001b[0mcols\u001b[0m\u001b[0;34m,\u001b[0m \u001b[0mB\u001b[0m\u001b[0;34m.\u001b[0m\u001b[0mrows\u001b[0m\u001b[0;34m\u001b[0m\u001b[0;34m\u001b[0m\u001b[0m\n\u001b[1;32m    101\u001b[0m         \u001b[0;32mif\u001b[0m \u001b[0misinstance\u001b[0m\u001b[0;34m(\u001b[0m\u001b[0mi\u001b[0m\u001b[0;34m,\u001b[0m \u001b[0;34m(\u001b[0m\u001b[0mint\u001b[0m\u001b[0;34m,\u001b[0m \u001b[0mInteger\u001b[0m\u001b[0;34m)\u001b[0m\u001b[0;34m)\u001b[0m \u001b[0;32mand\u001b[0m \u001b[0misinstance\u001b[0m\u001b[0;34m(\u001b[0m\u001b[0mj\u001b[0m\u001b[0;34m,\u001b[0m \u001b[0;34m(\u001b[0m\u001b[0mint\u001b[0m\u001b[0;34m,\u001b[0m \u001b[0mInteger\u001b[0m\u001b[0;34m)\u001b[0m\u001b[0;34m)\u001b[0m \u001b[0;32mand\u001b[0m \u001b[0mi\u001b[0m \u001b[0;34m!=\u001b[0m \u001b[0mj\u001b[0m\u001b[0;34m:\u001b[0m\u001b[0;34m\u001b[0m\u001b[0;34m\u001b[0m\u001b[0m\n\u001b[0;32m--> 102\u001b[0;31m             \u001b[0;32mraise\u001b[0m \u001b[0mShapeError\u001b[0m\u001b[0;34m(\u001b[0m\u001b[0;34m\"Matrices are not aligned\"\u001b[0m\u001b[0;34m,\u001b[0m \u001b[0mi\u001b[0m\u001b[0;34m,\u001b[0m \u001b[0mj\u001b[0m\u001b[0;34m)\u001b[0m\u001b[0;34m\u001b[0m\u001b[0;34m\u001b[0m\u001b[0m\n\u001b[0m",
            "\u001b[0;31mShapeError\u001b[0m: ('Matrices are not aligned', 3, 2)"
          ]
        }
      ]
    },
    {
      "cell_type": "code",
      "source": [
        "print(\"b)\")\n",
        "res2 = A*B.T*C.T\n",
        "res2.shape"
      ],
      "metadata": {
        "colab": {
          "base_uri": "https://localhost:8080/"
        },
        "id": "8TvNoJL_W_3J",
        "outputId": "f94f5299-b643-45b8-ef65-f05d1e044aa9"
      },
      "execution_count": null,
      "outputs": [
        {
          "output_type": "stream",
          "name": "stdout",
          "text": [
            "b)\n"
          ]
        },
        {
          "output_type": "execute_result",
          "data": {
            "text/plain": [
              "(3, 3)"
            ]
          },
          "metadata": {},
          "execution_count": 120
        }
      ]
    },
    {
      "cell_type": "code",
      "source": [
        "print(\"c)\")\n",
        "res3 = E*B*A*E\n",
        "res3.shape"
      ],
      "metadata": {
        "colab": {
          "base_uri": "https://localhost:8080/",
          "height": 354
        },
        "id": "xfKfMIzxXmSk",
        "outputId": "be32cf01-9fc4-4329-c471-5e230e20d05f"
      },
      "execution_count": null,
      "outputs": [
        {
          "output_type": "stream",
          "name": "stdout",
          "text": [
            "c)\n"
          ]
        },
        {
          "output_type": "error",
          "ename": "ShapeError",
          "evalue": "ignored",
          "traceback": [
            "\u001b[0;31m---------------------------------------------------------------------------\u001b[0m",
            "\u001b[0;31mShapeError\u001b[0m                                Traceback (most recent call last)",
            "\u001b[0;32m<ipython-input-121-1a6ed466ca13>\u001b[0m in \u001b[0;36m<cell line: 2>\u001b[0;34m()\u001b[0m\n\u001b[1;32m      1\u001b[0m \u001b[0mprint\u001b[0m\u001b[0;34m(\u001b[0m\u001b[0;34m\"c)\"\u001b[0m\u001b[0;34m)\u001b[0m\u001b[0;34m\u001b[0m\u001b[0;34m\u001b[0m\u001b[0m\n\u001b[0;32m----> 2\u001b[0;31m \u001b[0mres3\u001b[0m \u001b[0;34m=\u001b[0m \u001b[0mE\u001b[0m\u001b[0;34m*\u001b[0m\u001b[0mB\u001b[0m\u001b[0;34m*\u001b[0m\u001b[0mA\u001b[0m\u001b[0;34m*\u001b[0m\u001b[0mE\u001b[0m\u001b[0;34m\u001b[0m\u001b[0;34m\u001b[0m\u001b[0m\n\u001b[0m\u001b[1;32m      3\u001b[0m \u001b[0mres3\u001b[0m\u001b[0;34m.\u001b[0m\u001b[0mshape\u001b[0m\u001b[0;34m\u001b[0m\u001b[0;34m\u001b[0m\u001b[0m\n",
            "\u001b[0;32m/usr/local/lib/python3.10/dist-packages/sympy/matrices/expressions/matexpr.py\u001b[0m in \u001b[0;36m__sympifyit_wrapper\u001b[0;34m(a, b)\u001b[0m\n\u001b[1;32m     25\u001b[0m             \u001b[0;32mtry\u001b[0m\u001b[0;34m:\u001b[0m\u001b[0;34m\u001b[0m\u001b[0;34m\u001b[0m\u001b[0m\n\u001b[1;32m     26\u001b[0m                 \u001b[0mb\u001b[0m \u001b[0;34m=\u001b[0m \u001b[0m_sympify\u001b[0m\u001b[0;34m(\u001b[0m\u001b[0mb\u001b[0m\u001b[0;34m)\u001b[0m\u001b[0;34m\u001b[0m\u001b[0;34m\u001b[0m\u001b[0m\n\u001b[0;32m---> 27\u001b[0;31m                 \u001b[0;32mreturn\u001b[0m \u001b[0mfunc\u001b[0m\u001b[0;34m(\u001b[0m\u001b[0ma\u001b[0m\u001b[0;34m,\u001b[0m \u001b[0mb\u001b[0m\u001b[0;34m)\u001b[0m\u001b[0;34m\u001b[0m\u001b[0;34m\u001b[0m\u001b[0m\n\u001b[0m\u001b[1;32m     28\u001b[0m             \u001b[0;32mexcept\u001b[0m \u001b[0mSympifyError\u001b[0m\u001b[0;34m:\u001b[0m\u001b[0;34m\u001b[0m\u001b[0;34m\u001b[0m\u001b[0m\n\u001b[1;32m     29\u001b[0m                 \u001b[0;32mreturn\u001b[0m \u001b[0mretval\u001b[0m\u001b[0;34m\u001b[0m\u001b[0;34m\u001b[0m\u001b[0m\n",
            "\u001b[0;32m/usr/local/lib/python3.10/dist-packages/sympy/core/decorators.py\u001b[0m in \u001b[0;36mbinary_op_wrapper\u001b[0;34m(self, other)\u001b[0m\n\u001b[1;32m    104\u001b[0m                     \u001b[0;32mif\u001b[0m \u001b[0mf\u001b[0m \u001b[0;32mis\u001b[0m \u001b[0;32mnot\u001b[0m \u001b[0;32mNone\u001b[0m\u001b[0;34m:\u001b[0m\u001b[0;34m\u001b[0m\u001b[0;34m\u001b[0m\u001b[0m\n\u001b[1;32m    105\u001b[0m                         \u001b[0;32mreturn\u001b[0m \u001b[0mf\u001b[0m\u001b[0;34m(\u001b[0m\u001b[0mself\u001b[0m\u001b[0;34m)\u001b[0m\u001b[0;34m\u001b[0m\u001b[0;34m\u001b[0m\u001b[0m\n\u001b[0;32m--> 106\u001b[0;31m             \u001b[0;32mreturn\u001b[0m \u001b[0mfunc\u001b[0m\u001b[0;34m(\u001b[0m\u001b[0mself\u001b[0m\u001b[0;34m,\u001b[0m \u001b[0mother\u001b[0m\u001b[0;34m)\u001b[0m\u001b[0;34m\u001b[0m\u001b[0;34m\u001b[0m\u001b[0m\n\u001b[0m\u001b[1;32m    107\u001b[0m         \u001b[0;32mreturn\u001b[0m \u001b[0mbinary_op_wrapper\u001b[0m\u001b[0;34m\u001b[0m\u001b[0;34m\u001b[0m\u001b[0m\n\u001b[1;32m    108\u001b[0m     \u001b[0;32mreturn\u001b[0m \u001b[0mpriority_decorator\u001b[0m\u001b[0;34m\u001b[0m\u001b[0;34m\u001b[0m\u001b[0m\n",
            "\u001b[0;32m/usr/local/lib/python3.10/dist-packages/sympy/matrices/expressions/matexpr.py\u001b[0m in \u001b[0;36m__mul__\u001b[0;34m(self, other)\u001b[0m\n\u001b[1;32m    125\u001b[0m     \u001b[0;34m@\u001b[0m\u001b[0mcall_highest_priority\u001b[0m\u001b[0;34m(\u001b[0m\u001b[0;34m'__rmul__'\u001b[0m\u001b[0;34m)\u001b[0m\u001b[0;34m\u001b[0m\u001b[0;34m\u001b[0m\u001b[0m\n\u001b[1;32m    126\u001b[0m     \u001b[0;32mdef\u001b[0m \u001b[0m__mul__\u001b[0m\u001b[0;34m(\u001b[0m\u001b[0mself\u001b[0m\u001b[0;34m,\u001b[0m \u001b[0mother\u001b[0m\u001b[0;34m)\u001b[0m\u001b[0;34m:\u001b[0m\u001b[0;34m\u001b[0m\u001b[0;34m\u001b[0m\u001b[0m\n\u001b[0;32m--> 127\u001b[0;31m         \u001b[0;32mreturn\u001b[0m \u001b[0mMatMul\u001b[0m\u001b[0;34m(\u001b[0m\u001b[0mself\u001b[0m\u001b[0;34m,\u001b[0m \u001b[0mother\u001b[0m\u001b[0;34m)\u001b[0m\u001b[0;34m.\u001b[0m\u001b[0mdoit\u001b[0m\u001b[0;34m(\u001b[0m\u001b[0;34m)\u001b[0m\u001b[0;34m\u001b[0m\u001b[0;34m\u001b[0m\u001b[0m\n\u001b[0m\u001b[1;32m    128\u001b[0m \u001b[0;34m\u001b[0m\u001b[0m\n\u001b[1;32m    129\u001b[0m     \u001b[0;34m@\u001b[0m\u001b[0m_sympifyit\u001b[0m\u001b[0;34m(\u001b[0m\u001b[0;34m'other'\u001b[0m\u001b[0;34m,\u001b[0m \u001b[0mNotImplemented\u001b[0m\u001b[0;34m)\u001b[0m\u001b[0;34m\u001b[0m\u001b[0;34m\u001b[0m\u001b[0m\n",
            "\u001b[0;32m/usr/local/lib/python3.10/dist-packages/sympy/matrices/expressions/matmul.py\u001b[0m in \u001b[0;36m__new__\u001b[0;34m(cls, evaluate, check, _sympify, *args)\u001b[0m\n\u001b[1;32m     59\u001b[0m \u001b[0;34m\u001b[0m\u001b[0m\n\u001b[1;32m     60\u001b[0m         \u001b[0;32mif\u001b[0m \u001b[0mcheck\u001b[0m \u001b[0;32mis\u001b[0m \u001b[0;32mnot\u001b[0m \u001b[0;32mFalse\u001b[0m\u001b[0;34m:\u001b[0m\u001b[0;34m\u001b[0m\u001b[0;34m\u001b[0m\u001b[0m\n\u001b[0;32m---> 61\u001b[0;31m             \u001b[0mvalidate\u001b[0m\u001b[0;34m(\u001b[0m\u001b[0;34m*\u001b[0m\u001b[0mmatrices\u001b[0m\u001b[0;34m)\u001b[0m\u001b[0;34m\u001b[0m\u001b[0;34m\u001b[0m\u001b[0m\n\u001b[0m\u001b[1;32m     62\u001b[0m \u001b[0;34m\u001b[0m\u001b[0m\n\u001b[1;32m     63\u001b[0m         \u001b[0;32mif\u001b[0m \u001b[0;32mnot\u001b[0m \u001b[0mmatrices\u001b[0m\u001b[0;34m:\u001b[0m\u001b[0;34m\u001b[0m\u001b[0;34m\u001b[0m\u001b[0m\n",
            "\u001b[0;32m/usr/local/lib/python3.10/dist-packages/sympy/matrices/expressions/_shape.py\u001b[0m in \u001b[0;36mvalidate_matmul_integer\u001b[0;34m(*args)\u001b[0m\n\u001b[1;32m    100\u001b[0m         \u001b[0mi\u001b[0m\u001b[0;34m,\u001b[0m \u001b[0mj\u001b[0m \u001b[0;34m=\u001b[0m \u001b[0mA\u001b[0m\u001b[0;34m.\u001b[0m\u001b[0mcols\u001b[0m\u001b[0;34m,\u001b[0m \u001b[0mB\u001b[0m\u001b[0;34m.\u001b[0m\u001b[0mrows\u001b[0m\u001b[0;34m\u001b[0m\u001b[0;34m\u001b[0m\u001b[0m\n\u001b[1;32m    101\u001b[0m         \u001b[0;32mif\u001b[0m \u001b[0misinstance\u001b[0m\u001b[0;34m(\u001b[0m\u001b[0mi\u001b[0m\u001b[0;34m,\u001b[0m \u001b[0;34m(\u001b[0m\u001b[0mint\u001b[0m\u001b[0;34m,\u001b[0m \u001b[0mInteger\u001b[0m\u001b[0;34m)\u001b[0m\u001b[0;34m)\u001b[0m \u001b[0;32mand\u001b[0m \u001b[0misinstance\u001b[0m\u001b[0;34m(\u001b[0m\u001b[0mj\u001b[0m\u001b[0;34m,\u001b[0m \u001b[0;34m(\u001b[0m\u001b[0mint\u001b[0m\u001b[0;34m,\u001b[0m \u001b[0mInteger\u001b[0m\u001b[0;34m)\u001b[0m\u001b[0;34m)\u001b[0m \u001b[0;32mand\u001b[0m \u001b[0mi\u001b[0m \u001b[0;34m!=\u001b[0m \u001b[0mj\u001b[0m\u001b[0;34m:\u001b[0m\u001b[0;34m\u001b[0m\u001b[0;34m\u001b[0m\u001b[0m\n\u001b[0;32m--> 102\u001b[0;31m             \u001b[0;32mraise\u001b[0m \u001b[0mShapeError\u001b[0m\u001b[0;34m(\u001b[0m\u001b[0;34m\"Matrices are not aligned\"\u001b[0m\u001b[0;34m,\u001b[0m \u001b[0mi\u001b[0m\u001b[0;34m,\u001b[0m \u001b[0mj\u001b[0m\u001b[0;34m)\u001b[0m\u001b[0;34m\u001b[0m\u001b[0;34m\u001b[0m\u001b[0m\n\u001b[0m",
            "\u001b[0;31mShapeError\u001b[0m: ('Matrices are not aligned', 3, 1)"
          ]
        }
      ]
    },
    {
      "cell_type": "code",
      "source": [
        "print(\"d)\")\n",
        "\n",
        "res4 = sp.Matrix.cross(sp.Matrix(K.T),sp.Matrix(K.T))*C*E.T\n",
        "res4.shape"
      ],
      "metadata": {
        "colab": {
          "base_uri": "https://localhost:8080/"
        },
        "id": "5cOztrOUXsgV",
        "outputId": "bb836405-356e-4453-b355-a074e55aa22b"
      },
      "execution_count": null,
      "outputs": [
        {
          "output_type": "stream",
          "name": "stdout",
          "text": [
            "d)\n"
          ]
        },
        {
          "output_type": "execute_result",
          "data": {
            "text/plain": [
              "(1, 1)"
            ]
          },
          "metadata": {},
          "execution_count": 122
        }
      ]
    },
    {
      "cell_type": "markdown",
      "source": [
        "## Determinants"
      ],
      "metadata": {
        "id": "0naMvthvZPMh"
      }
    },
    {
      "cell_type": "markdown",
      "source": [
        "1. Find the determinants of the following matrices:\n",
        "\n",
        "\n",
        "a) $A=\\begin{bmatrix}\n",
        "          5 & -2 \\\\\n",
        "          1 & 6 \\\\\n",
        "\\end{bmatrix}$; \\\\\n",
        "\n",
        "b) $B=\\begin{bmatrix}\n",
        "           1 & -3 & -1 \\\\\n",
        "           -2 & 7 & 2 \\\\\n",
        "           3 & 2 & -4 \\\\\n",
        "\\end{bmatrix}$. \\\\"
      ],
      "metadata": {
        "id": "r4ktyGQPZR9G"
      }
    },
    {
      "cell_type": "code",
      "source": [
        "import sympy as sp\n",
        "A = sp.Matrix([[5, -2],[1, 6]])\n",
        "B = sp.Matrix([[1,-3, -1],[-2,7,2], [3,2,-4]])\n",
        "\n",
        "print(\"a)\", A.det())\n",
        "print(\"b)\", B.det())"
      ],
      "metadata": {
        "colab": {
          "base_uri": "https://localhost:8080/"
        },
        "id": "ywKa1w2vZRHd",
        "outputId": "aa0f3e9b-5117-4540-ffcd-df46b02265d5"
      },
      "execution_count": null,
      "outputs": [
        {
          "output_type": "stream",
          "name": "stdout",
          "text": [
            "a) 32\n",
            "b) -1\n"
          ]
        }
      ]
    },
    {
      "cell_type": "markdown",
      "source": [
        "2. A triangle is constructed on vectors \\textbf{a}=$\\begin{bmatrix} 2 \\\\ 4 \\\\ -1  \\end{bmatrix}$ and \\textbf{b}=$\\begin{bmatrix} -2\\\\ 1 \\\\ 1  \\end{bmatrix}$ \\\\\n",
        "    a) Find the area of this triangle. \\\\\n",
        "    b) Find the altitudes of this triangle. \\\\"
      ],
      "metadata": {
        "id": "tKtPHuCtaBjn"
      }
    },
    {
      "cell_type": "code",
      "source": [
        "import sympy as sp\n",
        "a = sp.Matrix([[2],[4],[-1]])\n",
        "b = sp.Matrix([[-2], [1], [1]])\n",
        "area = sp.Matrix.cross(a,b).norm()/2\n",
        "print(\"a)\")\n",
        "area"
      ],
      "metadata": {
        "colab": {
          "base_uri": "https://localhost:8080/",
          "height": 74
        },
        "id": "SsGoXDFeaYWG",
        "outputId": "d7f54678-2beb-4973-e55e-d28ab1aede37"
      },
      "execution_count": null,
      "outputs": [
        {
          "output_type": "stream",
          "name": "stdout",
          "text": [
            "a)\n"
          ]
        },
        {
          "output_type": "execute_result",
          "data": {
            "text/plain": [
              "5*sqrt(5)/2"
            ],
            "text/latex": "$\\displaystyle \\frac{5 \\sqrt{5}}{2}$"
          },
          "metadata": {},
          "execution_count": 124
        }
      ]
    },
    {
      "cell_type": "markdown",
      "source": [
        "$S = \\frac{1}{2}ah$"
      ],
      "metadata": {
        "id": "NE688ZGOauhy"
      }
    },
    {
      "cell_type": "code",
      "source": [
        "print(\"b_a)\")\n",
        "h= 2*area / a.norm()\n",
        "h"
      ],
      "metadata": {
        "colab": {
          "base_uri": "https://localhost:8080/",
          "height": 74
        },
        "id": "9bKolqSdaltK",
        "outputId": "d4414632-9462-492d-bd5c-cb969e19e1b6"
      },
      "execution_count": null,
      "outputs": [
        {
          "output_type": "stream",
          "name": "stdout",
          "text": [
            "b_a)\n"
          ]
        },
        {
          "output_type": "execute_result",
          "data": {
            "text/plain": [
              "5*sqrt(105)/21"
            ],
            "text/latex": "$\\displaystyle \\frac{5 \\sqrt{105}}{21}$"
          },
          "metadata": {},
          "execution_count": 125
        }
      ]
    },
    {
      "cell_type": "markdown",
      "source": [
        "3. Find the matrix product $AB$, if\n",
        "$A=\\begin{bmatrix}\n",
        "          1 & 2 & 5 \\\\\n",
        "          3 & 7 & x \\\\\n",
        "\\end{bmatrix}$, $B=\\begin{bmatrix}\n",
        "           5 & -1 \\\\\n",
        "           x & 2 \\\\\n",
        "           -3 & -1 \\\\\n",
        "\\end{bmatrix}$.\n",
        "\n",
        "Then find the largest possible value of $det(AB)$."
      ],
      "metadata": {
        "id": "Wtxzwhu0a5jo"
      }
    },
    {
      "cell_type": "code",
      "source": [
        "import sympy as sp\n",
        "x = sp.Symbol('x')\n",
        "A = sp.Matrix([[1,2,5],[3,7,x]])\n",
        "B = sp.Matrix([[5,-1],[x,2],[-3,-1]])\n",
        "\n",
        "print(\"a)\")\n",
        "resa = A*B\n",
        "resa"
      ],
      "metadata": {
        "colab": {
          "base_uri": "https://localhost:8080/",
          "height": 76
        },
        "id": "jv0d_8dLbKtY",
        "outputId": "8a7e678c-8d8b-4e0e-900b-d20b963d5248"
      },
      "execution_count": null,
      "outputs": [
        {
          "output_type": "stream",
          "name": "stdout",
          "text": [
            "a)\n"
          ]
        },
        {
          "output_type": "execute_result",
          "data": {
            "text/plain": [
              "Matrix([\n",
              "[2*x - 10,     -2],\n",
              "[4*x + 15, 11 - x]])"
            ],
            "text/latex": "$\\displaystyle \\left[\\begin{matrix}2 x - 10 & -2\\\\4 x + 15 & 11 - x\\end{matrix}\\right]$"
          },
          "metadata": {},
          "execution_count": 126
        }
      ]
    },
    {
      "cell_type": "code",
      "source": [
        "print(\"b)\")\n",
        "det_resa = resa.det()\n",
        "det_resa"
      ],
      "metadata": {
        "colab": {
          "base_uri": "https://localhost:8080/",
          "height": 57
        },
        "id": "8yeNTKzdbnp-",
        "outputId": "0d706808-7489-44e8-fb25-8f340355e753"
      },
      "execution_count": null,
      "outputs": [
        {
          "output_type": "stream",
          "name": "stdout",
          "text": [
            "b)\n"
          ]
        },
        {
          "output_type": "execute_result",
          "data": {
            "text/plain": [
              "-2*x**2 + 40*x - 80"
            ],
            "text/latex": "$\\displaystyle - 2 x^{2} + 40 x - 80$"
          },
          "metadata": {},
          "execution_count": 127
        }
      ]
    },
    {
      "cell_type": "code",
      "source": [
        "ddet_resa = sp.Derivative(det_resa)\n",
        "ddet_resa = ddet_resa.doit()\n",
        "ddet_resa"
      ],
      "metadata": {
        "colab": {
          "base_uri": "https://localhost:8080/",
          "height": 38
        },
        "id": "PR5TDKFbcdpV",
        "outputId": "e9454faa-dd50-4757-c750-a933b10cc38b"
      },
      "execution_count": null,
      "outputs": [
        {
          "output_type": "execute_result",
          "data": {
            "text/plain": [
              "40 - 4*x"
            ],
            "text/latex": "$\\displaystyle 40 - 4 x$"
          },
          "metadata": {},
          "execution_count": 128
        }
      ]
    },
    {
      "cell_type": "code",
      "source": [
        "resb = sp.solve(ddet_resa,x)\n",
        "resb"
      ],
      "metadata": {
        "colab": {
          "base_uri": "https://localhost:8080/"
        },
        "id": "8oBPKwTmchLs",
        "outputId": "19066402-2584-423a-9868-142bcdcfeaa7"
      },
      "execution_count": null,
      "outputs": [
        {
          "output_type": "execute_result",
          "data": {
            "text/plain": [
              "[10]"
            ]
          },
          "metadata": {},
          "execution_count": 129
        }
      ]
    },
    {
      "cell_type": "markdown",
      "source": [
        "# Scalar Triple Product"
      ],
      "metadata": {
        "id": "Umb-UT8Ua4wv"
      }
    },
    {
      "cell_type": "markdown",
      "source": [
        "1. Find the scalar triple product of $\\textbf{a}=\\begin{bmatrix} 1 \\\\ 2 \\\\ -1  \\end{bmatrix}$, $\\textbf{b}=\\begin{bmatrix} 7 \\\\ 3 \\\\ -5  \\end{bmatrix}$, $\\textbf{c}=\\begin{bmatrix} 3 \\\\ 4 \\\\ -3  \\end{bmatrix}$."
      ],
      "metadata": {
        "id": "pnpuUG-vcz92"
      }
    },
    {
      "cell_type": "code",
      "source": [
        "import sympy as sp\n",
        "a = sp.Matrix([[1],[2],[-1]])\n",
        "b = sp.Matrix([[7],[3],[-5]])\n",
        "c = sp.Matrix([[3],[4],[-3]])\n",
        "\n",
        "res = a.dot(b.cross(c))\n",
        "res"
      ],
      "metadata": {
        "colab": {
          "base_uri": "https://localhost:8080/",
          "height": 38
        },
        "id": "CfI909zGczQO",
        "outputId": "277c07ed-6eb9-4091-d0f6-9b36592252bb"
      },
      "execution_count": null,
      "outputs": [
        {
          "output_type": "execute_result",
          "data": {
            "text/plain": [
              "4"
            ],
            "text/latex": "$\\displaystyle 4$"
          },
          "metadata": {},
          "execution_count": 130
        }
      ]
    },
    {
      "cell_type": "markdown",
      "source": [
        "2. Vectors $\\textbf{a}$, $\\textbf{b}$, $\\textbf{c}$ are not coplanar. Find all values of $\\theta$ such that vectors $\\textbf{a}+2\\textbf{b}+\\theta\\textbf{c}$, $4\\textbf{a}+5\\textbf{b}+6\\textbf{c}$, $7\\textbf{a}+8\\textbf{b}+\\theta^2\\textbf{c}$ are coplanar."
      ],
      "metadata": {
        "id": "lB1MSRNBdpxV"
      }
    },
    {
      "cell_type": "code",
      "source": [
        "import sympy as sp\n",
        "a = sp.MatrixSymbol(\"a\",3,1)\n",
        "b = sp.MatrixSymbol(\"b\",3,1)\n",
        "c = sp.MatrixSymbol(\"c\",3,1)\n",
        "theta = sp.Symbol(\"theta\")\n",
        "\n",
        "# The three vectors are coplanar if their scalar triple product is zero.\n",
        "\n",
        "i = a + 2*b + theta*c\n",
        "j = 4*a + 5*b + 6*c\n",
        "k = 7*a + 8*b + theta**2 * c\n",
        "\n",
        "matri = sp.Matrix([sp.Matrix(i).T,sp.Matrix(j).T,sp.Matrix(k).T]).T\n",
        "resres = sp.solve(matri.det(),theta)\n",
        "resres"
      ],
      "metadata": {
        "colab": {
          "base_uri": "https://localhost:8080/"
        },
        "id": "47ZmmGPvdsqa",
        "outputId": "2acbab46-22da-4440-9350-ca3c65b0f2c2"
      },
      "execution_count": null,
      "outputs": [
        {
          "output_type": "execute_result",
          "data": {
            "text/plain": [
              "[-4, 3]"
            ]
          },
          "metadata": {},
          "execution_count": 131
        }
      ]
    }
  ]
}